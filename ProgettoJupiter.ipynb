{
 "cells": [
  {
   "cell_type": "code",
   "execution_count": 1,
   "metadata": {},
   "outputs": [],
   "source": [
    "import numpy as np\n",
    "import pandas as pd\n",
    "from sklearn.utils import shuffle\n",
    "import matplotlib.pyplot as plt\n",
    "import time\n",
    "from sklearn import svm\n",
    "from sklearn.model_selection import cross_val_score\n",
    "from sklearn.model_selection import GridSearchCV\n",
    "from sklearn.model_selection import train_test_split"
   ]
  },
  {
   "cell_type": "code",
   "execution_count": 2,
   "metadata": {},
   "outputs": [],
   "source": [
    "ds=pd.read_csv(\"TrainingDataset.arff.txt\",header=None, comment='@')\n",
    "train, test = train_test_split(ds, test_size=0.2)\n",
    "X_test = test.iloc[:,:np.shape(train)[1]-1]\n",
    "Y_test = test.iloc[:,-1]"
   ]
  },
  {
   "cell_type": "code",
   "execution_count": 22,
   "metadata": {},
   "outputs": [
    {
     "name": "stdout",
     "output_type": "stream",
     "text": [
      "Iterazione 0\n",
      "Modello: {'C': 0.01, 'kernel': 'linear'} accuracy: 0.9231117141564903\n",
      "Modello: {'C': 0.1, 'kernel': 'linear'} accuracy: 0.9268430574400723\n",
      "Modello: {'C': 1.0, 'kernel': 'linear'} accuracy: 0.9275214834916328\n",
      "Modello: {'C': 10.0, 'kernel': 'linear'} accuracy: 0.9275214834916328\n",
      "Modello: {'C': 100.0, 'kernel': 'linear'} accuracy: 0.9276345545002261\n",
      "\n",
      "Elapsed time: 93.01322531700134\n",
      "Iterazione 1\n",
      "Modello: {'C': 0.01, 'kernel': 'linear'} accuracy: 0.9234509271822705\n",
      "Modello: {'C': 0.1, 'kernel': 'linear'} accuracy: 0.927860696517413\n",
      "Modello: {'C': 1.0, 'kernel': 'linear'} accuracy: 0.9275214834916328\n",
      "Modello: {'C': 10.0, 'kernel': 'linear'} accuracy: 0.9274084124830394\n",
      "Modello: {'C': 100.0, 'kernel': 'linear'} accuracy: 0.9272953414744459\n",
      "\n",
      "Elapsed time: 1549538345.7529929\n",
      "Iterazione 2\n",
      "Modello: {'C': 0.01, 'kernel': 'linear'} accuracy: 0.923337856173677\n",
      "Modello: {'C': 0.1, 'kernel': 'linear'} accuracy: 0.9280868385345997\n",
      "Modello: {'C': 1.0, 'kernel': 'linear'} accuracy: 0.9275214834916328\n",
      "Modello: {'C': 10.0, 'kernel': 'linear'} accuracy: 0.9275214834916328\n",
      "Modello: {'C': 100.0, 'kernel': 'linear'} accuracy: 0.9275214834916328\n",
      "\n",
      "Elapsed time: 154.49338340759277\n",
      "Iterazione 3\n",
      "Modello: {'C': 0.01, 'kernel': 'linear'} accuracy: 0.9236770691994572\n",
      "Modello: {'C': 0.1, 'kernel': 'linear'} accuracy: 0.9276345545002261\n",
      "Modello: {'C': 1.0, 'kernel': 'linear'} accuracy: 0.9280868385345997\n",
      "Modello: {'C': 10.0, 'kernel': 'linear'} accuracy: 0.9279737675260064\n",
      "Modello: {'C': 100.0, 'kernel': 'linear'} accuracy: 0.9279737675260064\n",
      "\n",
      "Elapsed time: 1549538406.0746124\n",
      "Iterazione 4\n",
      "Modello: {'C': 0.01, 'kernel': 'linear'} accuracy: 0.9246947082767978\n",
      "Modello: {'C': 0.1, 'kernel': 'linear'} accuracy: 0.9270691994572592\n",
      "Modello: {'C': 1.0, 'kernel': 'linear'} accuracy: 0.927860696517413\n",
      "Modello: {'C': 10.0, 'kernel': 'linear'} accuracy: 0.9280868385345997\n",
      "Modello: {'C': 100.0, 'kernel': 'linear'} accuracy: 0.927860696517413\n",
      "\n",
      "Elapsed time: 221.72573566436768\n",
      "Iterazione 5\n",
      "Modello: {'C': 0.01, 'kernel': 'linear'} accuracy: 0.9231117141564903\n",
      "Modello: {'C': 0.1, 'kernel': 'linear'} accuracy: 0.9274084124830394\n",
      "Modello: {'C': 1.0, 'kernel': 'linear'} accuracy: 0.9272953414744459\n",
      "Modello: {'C': 10.0, 'kernel': 'linear'} accuracy: 0.9270691994572592\n",
      "Modello: {'C': 100.0, 'kernel': 'linear'} accuracy: 0.9271822704658526\n",
      "\n",
      "Elapsed time: 1549538470.0432518\n",
      "Iterazione 6\n",
      "Modello: {'C': 0.01, 'kernel': 'linear'} accuracy: 0.9232247851650837\n",
      "Modello: {'C': 0.1, 'kernel': 'linear'} accuracy: 0.9268430574400723\n",
      "Modello: {'C': 1.0, 'kernel': 'linear'} accuracy: 0.927860696517413\n",
      "Modello: {'C': 10.0, 'kernel': 'linear'} accuracy: 0.9274084124830394\n",
      "Modello: {'C': 100.0, 'kernel': 'linear'} accuracy: 0.9274084124830394\n",
      "\n",
      "Elapsed time: 283.3714015483856\n",
      "Iterazione 7\n",
      "Modello: {'C': 0.01, 'kernel': 'linear'} accuracy: 0.9241293532338308\n",
      "Modello: {'C': 0.1, 'kernel': 'linear'} accuracy: 0.9271822704658526\n",
      "Modello: {'C': 1.0, 'kernel': 'linear'} accuracy: 0.9281999095431931\n",
      "Modello: {'C': 10.0, 'kernel': 'linear'} accuracy: 0.9281999095431931\n",
      "Modello: {'C': 100.0, 'kernel': 'linear'} accuracy: 0.9281999095431931\n",
      "\n",
      "Elapsed time: 1549538531.9140866\n",
      "Iterazione 8\n",
      "Modello: {'C': 0.01, 'kernel': 'linear'} accuracy: 0.923337856173677\n",
      "Modello: {'C': 0.1, 'kernel': 'linear'} accuracy: 0.927860696517413\n",
      "Modello: {'C': 1.0, 'kernel': 'linear'} accuracy: 0.9279737675260064\n",
      "Modello: {'C': 10.0, 'kernel': 'linear'} accuracy: 0.927860696517413\n",
      "Modello: {'C': 100.0, 'kernel': 'linear'} accuracy: 0.9276345545002261\n",
      "\n",
      "Elapsed time: 347.67583107948303\n",
      "Iterazione 9\n",
      "Modello: {'C': 0.01, 'kernel': 'linear'} accuracy: 0.9235639981908639\n",
      "Modello: {'C': 0.1, 'kernel': 'linear'} accuracy: 0.9277476255088195\n",
      "Modello: {'C': 1.0, 'kernel': 'linear'} accuracy: 0.927860696517413\n",
      "Modello: {'C': 10.0, 'kernel': 'linear'} accuracy: 0.9277476255088195\n",
      "Modello: {'C': 100.0, 'kernel': 'linear'} accuracy: 0.927860696517413\n",
      "\n",
      "Elapsed time: 1549538594.8374362\n",
      "[{'C': 100.0, 'kernel': 'linear'}, {'C': 0.1, 'kernel': 'linear'}, {'C': 0.1, 'kernel': 'linear'}, {'C': 1.0, 'kernel': 'linear'}, {'C': 10.0, 'kernel': 'linear'}, {'C': 0.1, 'kernel': 'linear'}, {'C': 1.0, 'kernel': 'linear'}, {'C': 1.0, 'kernel': 'linear'}, {'C': 1.0, 'kernel': 'linear'}, {'C': 1.0, 'kernel': 'linear'}]\n",
      "\n",
      "Total elapsed time: 660.8137748241425\n"
     ]
    }
   ],
   "source": [
    "elapsed_time= time.time()\n",
    "start_time= time.time()\n",
    "\n",
    "\n",
    "C_range = np.logspace(-3 , 3, num=7)\n",
    "parameters = {'C':C_range, 'kernel':['linear']}\n",
    "train_scores_matrix = []\n",
    "validation_scores_matrix = []\n",
    "test_scores_matrix = []\n",
    "best_estimators=[]\n",
    "\n",
    "for n in range(0,10): \n",
    "    print(\"Iterazione\",n)\n",
    "    train_scores=[]\n",
    "    validation_scores=[]\n",
    "    test_scores=[]\n",
    "    #mescolo i campioni in train e validation set\n",
    "    train= shuffle(train)\n",
    "    X_train = train.iloc[:,:np.shape(train)[1]-1]\n",
    "    Y_train = train.iloc[:,-1]\n",
    "    #GridSearch con i parametri definiti sopra\n",
    "    svc = svm.SVC()\n",
    "    clf = GridSearchCV(svc, parameters, cv=5, scoring=\"accuracy\",n_jobs=-1, return_train_score=True)\n",
    "    clf.fit(X_train, Y_train)\n",
    "    best_estimators.append(clf.best_params_)\n",
    "    \n",
    "    for i in range(0,len(clf.cv_results_['params'])):\n",
    "        print (\"Modello:\",clf.cv_results_['params'][i], \"accuracy:\",clf.cv_results_['mean_test_score'][i])\n",
    "    \n",
    "    #combinazioni di parametri\n",
    "    hyperparameters = []\n",
    "    for i in clf.cv_results_['params']:\n",
    "        hyperparameters.append(i)\n",
    "    \n",
    "    #score sul test set per ogni combinazione\n",
    "    for i in hyperparameters:\n",
    "        temp_class = svm.SVC(kernel=i['kernel'],C=i['C'])\n",
    "        temp_class.fit(X_train,Y_train)\n",
    "        #n risultati sul test set \n",
    "        test_scores.append(temp_class.score(X_test,Y_test))\n",
    "        \n",
    "    for i in range (0,len(clf.cv_results_['mean_test_score'])): \n",
    "        validation_scores.append(clf.cv_results_['mean_test_score'][i])  \n",
    "        train_scores.append(clf.cv_results_['mean_train_score'][i])\n",
    "    \n",
    "    #train validation e test scores per ogni shuffle\n",
    "    train_scores_matrix.append(train_scores)\n",
    "    validation_scores_matrix.append(validation_scores)\n",
    "    test_scores_matrix.append(test_scores)\n",
    "    \n",
    "    elapsed_time=time.time()-elapsed_time\n",
    "    print(\"\\nElapsed time:\",elapsed_time)\n",
    "\n",
    "print(best_estimators)\n",
    "\n",
    "elapsed_time=time.time()-start_time\n",
    "print(\"\\nTotal elapsed time:\",elapsed_time)"
   ]
  },
  {
   "cell_type": "code",
   "execution_count": 23,
   "metadata": {},
   "outputs": [
    {
     "name": "stdout",
     "output_type": "stream",
     "text": [
      "Train scores matrix [[0.9241859016681122, 0.9290763251697752, 0.9291610469185241, 0.9290762452586746, 0.9290479727113181], [0.9245814696066919, 0.9286238605276402, 0.9294436685076585, 0.9294436844898787, 0.9293871633684958], [0.9248078817277356, 0.929104509814921, 0.9293306981848832, 0.9290480446313086, 0.9291611188385145], [0.92452509232529, 0.9291044538771509, 0.9295567586970848, 0.9295002215934817, 0.9295284861497282], [0.9243554490500407, 0.9288217363946956, 0.9294436125698884, 0.9295566867770942, 0.9296132238806972], [0.9242989838664283, 0.9287653191577434, 0.9289348985041121, 0.9289914835543754, 0.928906681894526], [0.9246946636805486, 0.9285108742226449, 0.9294153959603021, 0.9292175041110265, 0.9292175041110265], [0.9244685312483568, 0.9287370785748271, 0.9293306342560029, 0.9291610549096342, 0.9292175920132373], [0.9247512647130322, 0.9289631151136982, 0.929500261549032, 0.9291045257971412, 0.9289631630603588], [0.924383681641847, 0.9283977280954483, 0.9289346987263609, 0.9291325266467559, 0.9291325266467559]]\n",
      "Validation scores matrix [[0.9231117141564903, 0.9268430574400723, 0.9275214834916328, 0.9275214834916328, 0.9276345545002261], [0.9234509271822705, 0.927860696517413, 0.9275214834916328, 0.9274084124830394, 0.9272953414744459], [0.923337856173677, 0.9280868385345997, 0.9275214834916328, 0.9275214834916328, 0.9275214834916328], [0.9236770691994572, 0.9276345545002261, 0.9280868385345997, 0.9279737675260064, 0.9279737675260064], [0.9246947082767978, 0.9270691994572592, 0.927860696517413, 0.9280868385345997, 0.927860696517413], [0.9231117141564903, 0.9274084124830394, 0.9272953414744459, 0.9270691994572592, 0.9271822704658526], [0.9232247851650837, 0.9268430574400723, 0.927860696517413, 0.9274084124830394, 0.9274084124830394], [0.9241293532338308, 0.9271822704658526, 0.9281999095431931, 0.9281999095431931, 0.9281999095431931], [0.923337856173677, 0.927860696517413, 0.9279737675260064, 0.927860696517413, 0.9276345545002261], [0.9235639981908639, 0.9277476255088195, 0.927860696517413, 0.9277476255088195, 0.927860696517413]]\n",
      "Test scores matrix [[0.9240162822252375, 0.9249208502939846, 0.9253731343283582, 0.9253731343283582, 0.9240162822252375], [0.9240162822252375, 0.9249208502939846, 0.9253731343283582, 0.9253731343283582, 0.9240162822252375], [0.9240162822252375, 0.9249208502939846, 0.9253731343283582, 0.9249208502939846, 0.9240162822252375], [0.9240162822252375, 0.9249208502939846, 0.9253731343283582, 0.9253731343283582, 0.9240162822252375], [0.9240162822252375, 0.9249208502939846, 0.9253731343283582, 0.9253731343283582, 0.9240162822252375], [0.9240162822252375, 0.9249208502939846, 0.9253731343283582, 0.9253731343283582, 0.9240162822252375], [0.9240162822252375, 0.9249208502939846, 0.9253731343283582, 0.9253731343283582, 0.9240162822252375], [0.9240162822252375, 0.9249208502939846, 0.9253731343283582, 0.9253731343283582, 0.9240162822252375], [0.9240162822252375, 0.9249208502939846, 0.9253731343283582, 0.9249208502939846, 0.9240162822252375], [0.9240162822252375, 0.9249208502939846, 0.9253731343283582, 0.9249208502939846, 0.9240162822252375]]\n"
     ]
    }
   ],
   "source": [
    "print(\"Train scores matrix\", train_scores_matrix)\n",
    "print(\"Validation scores matrix\", validation_scores_matrix)\n",
    "print(\"Test scores matrix\", test_scores_matrix)\n"
   ]
  },
  {
   "cell_type": "code",
   "execution_count": 24,
   "metadata": {},
   "outputs": [],
   "source": [
    "train_means=[]\n",
    "for i in range(0, np.shape(train_scores_matrix)[1]):\n",
    "    temp_means=[]\n",
    "    for j in range(0, np.shape(train_scores_matrix)[0]):\n",
    "        temp_means.append(train_scores_matrix[j][i])\n",
    "    train_means.append(np.mean(temp_means))\n",
    "    \n",
    "validation_means=[]\n",
    "for i in range(0, np.shape(validation_scores_matrix)[1]):\n",
    "    temp_means=[]\n",
    "    for j in range(0, np.shape(validation_scores_matrix)[0]):\n",
    "        temp_means.append(validation_scores_matrix[j][i])\n",
    "    validation_means.append(np.mean(temp_means))\n",
    "    \n",
    "test_means=[]\n",
    "for i in range(0, np.shape(test_scores_matrix)[1]):\n",
    "    temp_means=[]\n",
    "    for j in range(0, np.shape(test_scores_matrix)[0]):\n",
    "        temp_means.append(test_scores_matrix[j][i])\n",
    "    test_means.append(np.mean(temp_means))\n",
    "\n"
   ]
  },
  {
   "cell_type": "code",
   "execution_count": 25,
   "metadata": {},
   "outputs": [
    {
     "name": "stdout",
     "output_type": "stream",
     "text": [
      "validation scores: [0.9235639981908641, 0.9274536408864767, 0.9277702397105383, 0.9276797829036635, 0.9276571687019448] \n",
      "train scores: [0.9245052919528083, 0.9288105000948544, 0.9293051673873848, 0.9292231977769371, 0.9292175432674659] \n",
      "test scores: [0.9240162822252375, 0.9249208502939845, 0.9253731343283583, 0.9252374491180462, 0.9240162822252375]\n"
     ]
    },
    {
     "data": {
      "image/png": "[encoded data removed]",
      "text/plain": [
       "<Figure size 432x288 with 1 Axes>"
      ]
     },
     "metadata": {
      "needs_background": "light"
     },
     "output_type": "display_data"
    }
   ],
   "source": [
    "print (\"validation scores:\",validation_means,\"\\ntrain scores:\",train_means,\"\\ntest scores:\",test_means)\n",
    "plt.plot(C_range,validation_means)\n",
    "plt.plot(C_range,train_means)\n",
    "plt.plot(C_range,test_means)\n",
    "plt.xlabel(\"C\")\n",
    "plt.xscale('log')\n",
    "plt.ylabel(\"Accuracy\")\n",
    "plt.legend(['Validation accuracy','Train accuracy','Test accuracy'], prop={'size': 10})\n",
    "plt.show()"
   ]
  },
  {
   "cell_type": "code",
   "execution_count": null,
   "metadata": {},
   "outputs": [],
   "source": []
  }
 ],
 "metadata": {
  "kernelspec": {
   "display_name": "Python 3",
   "language": "python",
   "name": "python3"
  },
  "language_info": {
   "codemirror_mode": {
    "name": "ipython",
    "version": 3
   },
   "file_extension": ".py",
   "mimetype": "text/x-python",
   "name": "python",
   "nbconvert_exporter": "python",
   "pygments_lexer": "ipython3",
   "version": "3.7.1"
  }
 },
 "nbformat": 4,
 "nbformat_minor": 2
}
