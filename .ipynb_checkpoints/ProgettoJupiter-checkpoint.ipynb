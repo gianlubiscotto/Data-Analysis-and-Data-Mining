{
 "cells": [
  {
   "cell_type": "code",
   "execution_count": null,
   "metadata": {},
   "outputs": [],
   "source": [
    "import numpy as np\n",
    "import pandas as pd\n",
    "from sklearn.utils import shuffle\n",
    "import matplotlib.pyplot as plt\n",
    "import time\n",
    "from sklearn import svm\n",
    "from sklearn.model_selection import cross_val_score\n",
    "from sklearn.model_selection import GridSearchCV\n",
    "from sklearn.model_selection import train_test_split"
   ]
  },
  {
   "cell_type": "code",
   "execution_count": null,
   "metadata": {},
   "outputs": [],
   "source": [
    "ds=pd.read_csv(\"TrainingDataset.arff.txt\",header=None, comment='@')\n",
    "train, test = train_test_split(ds, test_size=0.2)\n",
    "X_train = train.iloc[:,:np.shape(train)[1]-1]\n",
    "Y_train = train.iloc[:,-1]\n",
    "X_test = test.iloc[:,:np.shape(train)[1]-1]\n",
    "Y_test = test.iloc[:,-1]"
   ]
  },
  {
   "cell_type": "code",
   "execution_count": null,
   "metadata": {},
   "outputs": [],
   "source": [
    "C_range = np.logspace(-2 , 3, num=6)\n",
    "print C_range\n",
    "parameters = {'C':C_range, 'kernel':['linear']}\n",
    "val_scores = []\n",
    "train_scores = []\n",
    "test_scores = []\n",
    "svc = svm.SVC()\n",
    "clf = GridSearchCV(svc, parameters, cv=3, scoring=\"accuracy\",n_jobs=-1)\n",
    "clf.fit(X_train, Y_train)\n",
    "\n",
    "for i in range(0,len(clf.cv_results_['params'])):\n",
    "        print (\"Modello:\",clf.cv_results_['params'][i], \"accuracy:\",clf.cv_results_['mean_test_score'][i])"
   ]
  },
  {
   "cell_type": "code",
   "execution_count": null,
   "metadata": {},
   "outputs": [],
   "source": [
    "for i in range (0,len(clf.cv_results_['mean_test_score'])): \n",
    "    val_scores.append(clf.cv_results_['mean_test_score'][i])\n",
    "    train_scores.append(clf.cv_results_['mean_train_score'][i])"
   ]
  },
  {
   "cell_type": "code",
   "execution_count": null,
   "metadata": {},
   "outputs": [],
   "source": [
    "hyperparameters = []\n",
    "    \n",
    "for i in clf.cv_results_['params']:\n",
    "    hyperparameters.append(i)\n",
    "    \n",
    "test_trend = []\n",
    "for i in hyperparameters:\n",
    "    temp_class = svm.SVC(kernel=i['kernel'],C=i['C'])\n",
    "    temp_class.fit(X_train,Y_train)\n",
    "    test_trend.append(temp_class.score(X_test,Y_test))\n",
    "    \n",
    "print \"val scores:\",val_scores,\"\\ntrain scores:\",train_scores\n",
    "plt.plot(C_range,val_scores)\n",
    "plt.plot(C_range,train_scores)\n",
    "plt.plot(C_range,test_trend)\n",
    "plt.xlabel(\"C\")\n",
    "plt.xscale('log')\n",
    "plt.ylabel(\"Accuracy\")\n",
    "plt.legend(['Validation accuracy','Train accuracy','Test accuracy'], prop={'size': 10})\n",
    "plt.show()"
   ]
  }
 ],
 "metadata": {
  "kernelspec": {
   "display_name": "Python 2",
   "language": "python",
   "name": "python2"
  },
  "language_info": {
   "codemirror_mode": {
    "name": "ipython",
    "version": 2
   },
   "file_extension": ".py",
   "mimetype": "text/x-python",
   "name": "python",
   "nbconvert_exporter": "python",
   "pygments_lexer": "ipython2",
   "version": "2.7.15"
  }
 },
 "nbformat": 4,
 "nbformat_minor": 2
}
