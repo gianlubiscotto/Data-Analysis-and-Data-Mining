{
 "cells": [
  {
   "cell_type": "code",
   "execution_count": 1,
   "metadata": {},
   "outputs": [],
   "source": [
    "import numpy as np\n",
    "import pandas as pd\n",
    "from sklearn.utils import shuffle\n",
    "import matplotlib.pyplot as plt\n",
    "import time\n",
    "from sklearn import svm\n",
    "from sklearn.model_selection import cross_val_score\n",
    "from sklearn.model_selection import GridSearchCV\n",
    "from sklearn.model_selection import train_test_split"
   ]
  },
  {
   "cell_type": "code",
   "execution_count": 2,
   "metadata": {},
   "outputs": [],
   "source": [
    "ds=pd.read_csv(\"TrainingDataset.arff.txt\",header=None, comment='@')\n",
    "train, test = train_test_split(ds, test_size=0.2)\n",
    "X_test = test.iloc[:,:np.shape(train)[1]-1]\n",
    "Y_test = test.iloc[:,-1]"
   ]
  },
  {
   "cell_type": "code",
   "execution_count": null,
   "metadata": {},
   "outputs": [
    {
     "name": "stdout",
     "output_type": "stream",
     "text": [
      "Iterazione 0\n",
      "Modello: {'C': 0.01, 'kernel': 'linear'} accuracy: 0.9228855721393034\n",
      "Modello: {'C': 0.1, 'kernel': 'linear'} accuracy: 0.9276345545002261\n",
      "Modello: {'C': 1.0, 'kernel': 'linear'} accuracy: 0.9277476255088195\n",
      "Modello: {'C': 10.0, 'kernel': 'linear'} accuracy: 0.9277476255088195\n",
      "Modello: {'C': 100.0, 'kernel': 'linear'} accuracy: 0.9277476255088195\n",
      "Iterazione 1\n",
      "Modello: {'C': 0.01, 'kernel': 'linear'} accuracy: 0.9222071460877431\n",
      "Modello: {'C': 0.1, 'kernel': 'linear'} accuracy: 0.9272953414744459\n",
      "Modello: {'C': 1.0, 'kernel': 'linear'} accuracy: 0.926729986431479\n",
      "Modello: {'C': 10.0, 'kernel': 'linear'} accuracy: 0.9270691994572592\n",
      "Modello: {'C': 100.0, 'kernel': 'linear'} accuracy: 0.9270691994572592\n",
      "Iterazione 2\n",
      "Modello: {'C': 0.01, 'kernel': 'linear'} accuracy: 0.9232247851650837\n",
      "Modello: {'C': 0.1, 'kernel': 'linear'} accuracy: 0.9266169154228856\n",
      "Modello: {'C': 1.0, 'kernel': 'linear'} accuracy: 0.925599276345545\n",
      "Modello: {'C': 10.0, 'kernel': 'linear'} accuracy: 0.9251469923111714\n",
      "Modello: {'C': 100.0, 'kernel': 'linear'} accuracy: 0.9253731343283582\n",
      "Iterazione 3\n"
     ]
    }
   ],
   "source": [
    "start_time= time.time()\n",
    "\n",
    "C_range = np.logspace(-2 , 2, num=5)\n",
    "parameters = {'C':C_range, 'kernel':['linear']}\n",
    "train_scores_matrix = []\n",
    "validation_scores_matrix = []\n",
    "test_scores_matrix = []\n",
    "best_estimators=[]\n",
    "\n",
    "for n in range(0,5): \n",
    "    print(\"Iterazione\",n)\n",
    "    train_scores=[]\n",
    "    validation_scores=[]\n",
    "    test_scores=[]\n",
    "    #mescolo i campioni in train e validation set\n",
    "    train= shuffle(train)\n",
    "    X_train = train.iloc[:,:np.shape(train)[1]-1]\n",
    "    Y_train = train.iloc[:,-1]\n",
    "    #GridSearch con i parametri definiti sopra\n",
    "    svc = svm.SVC()\n",
    "    clf = GridSearchCV(svc, parameters, cv=3, scoring=\"accuracy\",n_jobs=-1, return_train_score=True)\n",
    "    clf.fit(X_train, Y_train)\n",
    "    best_estimators.append(clf.best_params_)\n",
    "    \n",
    "    for i in range(0,len(clf.cv_results_['params'])):\n",
    "        print (\"Modello:\",clf.cv_results_['params'][i], \"accuracy:\",clf.cv_results_['mean_test_score'][i])\n",
    "    \n",
    "    #combinazioni di parametri\n",
    "    hyperparameters = []\n",
    "    for i in clf.cv_results_['params']:\n",
    "        hyperparameters.append(i)\n",
    "    \n",
    "    #score sul test set per ogni combinazione\n",
    "    for i in hyperparameters:\n",
    "        temp_class = svm.SVC(kernel=i['kernel'],C=i['C'])\n",
    "        temp_class.fit(X_train,Y_train)\n",
    "        #n risultati sul test set \n",
    "        test_scores.append(temp_class.score(X_test,Y_test))\n",
    "        \n",
    "    for i in range (0,len(clf.cv_results_['mean_test_score'])): \n",
    "        validation_scores.append(clf.cv_results_['mean_test_score'][i])  \n",
    "        train_scores.append(clf.cv_results_['mean_train_score'][i])\n",
    "    \n",
    "    #train validation e test scores per ogni shuffle\n",
    "    train_scores_matrix.append(train_scores)\n",
    "    validation_scores_matrix.append(validation_scores)\n",
    "    test_scores_matrix.append(test_scores)\n",
    "\n",
    "print(best_estimators)\n",
    "\n",
    "elapsed_time=time.time()-start_time\n",
    "print(\"\\nElapsed time:\",elapsed_time)"
   ]
  },
  {
   "cell_type": "code",
   "execution_count": 14,
   "metadata": {},
   "outputs": [
    {
     "name": "stdout",
     "output_type": "stream",
     "text": [
      "Train scores matrix [[0.9291613665564998, 0.9302355603384856, 0.9301790344213527, 0.9301225085042196], [0.9290480174486012, 0.9297263092636067, 0.9297263572026777, 0.9297263763770052], [0.9291609062197684, 0.9296132957454691, 0.9288218370209594, 0.9288218370209594], [0.9292740827587206, 0.929047883195783, 0.9292174897151785, 0.9292174897151785], [0.9294439194058236, 0.9294438714602472, 0.9295003686093839, 0.929669975122274]]\n",
      "Validation scores matrix [[0.926729986431479, 0.9276345545002261, 0.9279737675260064, 0.9280868385345997], [0.9270691994572592, 0.9286521935775667, 0.9284260515603799, 0.9283129805517866], [0.9276345545002261, 0.9277476255088195, 0.9270691994572592, 0.9270691994572592], [0.9288783355947535, 0.9284260515603799, 0.9289914066033469, 0.9288783355947535], [0.9266169154228856, 0.9276345545002261, 0.927860696517413, 0.927860696517413]]\n",
      "Test scores matrix [[0.9249208502939846, 0.9253731343283582, 0.9253731343283582, 0.9240162822252375], [0.9249208502939846, 0.9253731343283582, 0.9253731343283582, 0.9240162822252375], [0.9249208502939846, 0.9253731343283582, 0.9249208502939846, 0.9240162822252375], [0.9249208502939846, 0.9253731343283582, 0.9249208502939846, 0.9240162822252375], [0.9249208502939846, 0.9253731343283582, 0.9253731343283582, 0.9240162822252375]]\n"
     ]
    }
   ],
   "source": [
    "print(\"Train scores matrix\", train_scores_matrix)\n",
    "print(\"Validation scores matrix\", validation_scores_matrix)\n",
    "print(\"Test scores matrix\", test_scores_matrix)\n"
   ]
  },
  {
   "cell_type": "code",
   "execution_count": 15,
   "metadata": {},
   "outputs": [],
   "source": [
    "train_means=[]\n",
    "for i in range(0, np.shape(train_scores_matrix)[1]):\n",
    "    temp_means=[]\n",
    "    for j in range(0, np.shape(train_scores_matrix)[0]):\n",
    "        temp_means.append(train_scores_matrix[j][i])\n",
    "    train_means.append(np.mean(temp_means))\n",
    "    \n",
    "validation_means=[]\n",
    "for i in range(0, np.shape(validation_scores_matrix)[1]):\n",
    "    temp_means=[]\n",
    "    for j in range(0, np.shape(validation_scores_matrix)[0]):\n",
    "        temp_means.append(validation_scores_matrix[j][i])\n",
    "    validation_means.append(np.mean(temp_means))\n",
    "    \n",
    "test_means=[]\n",
    "for i in range(0, np.shape(test_scores_matrix)[1]):\n",
    "    temp_means=[]\n",
    "    for j in range(0, np.shape(test_scores_matrix)[0]):\n",
    "        temp_means.append(test_scores_matrix[j][i])\n",
    "    test_means.append(np.mean(temp_means))\n",
    "\n"
   ]
  },
  {
   "cell_type": "code",
   "execution_count": 16,
   "metadata": {},
   "outputs": [
    {
     "name": "stdout",
     "output_type": "stream",
     "text": [
      "validation scores: [0.9273857982813206, 0.9280189959294438, 0.9280642243328809, 0.9280416101311623] \n",
      "train scores: [0.9292176584778827, 0.9296133840007184, 0.9294890173939105, 0.9295116373479273] \n",
      "test scores: [0.9249208502939845, 0.9253731343283583, 0.9251922207146087, 0.9240162822252375]\n"
     ]
    },
    {
     "data": {
      "image/png": "[encoded data removed]",
      "text/plain": [
       "<Figure size 432x288 with 1 Axes>"
      ]
     },
     "metadata": {
      "needs_background": "light"
     },
     "output_type": "display_data"
    }
   ],
   "source": [
    "print (\"validation scores:\",validation_means,\"\\ntrain scores:\",train_means,\"\\ntest scores:\",test_means)\n",
    "plt.plot(C_range,validation_means)\n",
    "plt.plot(C_range,train_means)\n",
    "plt.plot(C_range,test_means)\n",
    "plt.xlabel(\"C\")\n",
    "plt.xscale('log')\n",
    "plt.ylabel(\"Accuracy\")\n",
    "plt.legend(['Validation accuracy','Train accuracy','Test accuracy'], prop={'size': 10})\n",
    "plt.show()"
   ]
  },
  {
   "cell_type": "code",
   "execution_count": null,
   "metadata": {},
   "outputs": [],
   "source": []
  }
 ],
 "metadata": {
  "kernelspec": {
   "display_name": "Python 3",
   "language": "python",
   "name": "python3"
  },
  "language_info": {
   "codemirror_mode": {
    "name": "ipython",
    "version": 3
   },
   "file_extension": ".py",
   "mimetype": "text/x-python",
   "name": "python",
   "nbconvert_exporter": "python",
   "pygments_lexer": "ipython3",
   "version": "3.7.1"
  }
 },
 "nbformat": 4,
 "nbformat_minor": 2
}
