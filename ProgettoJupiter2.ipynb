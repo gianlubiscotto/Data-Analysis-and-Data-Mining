{
 "cells": [
  {
   "cell_type": "code",
   "execution_count": 1,
   "metadata": {},
   "outputs": [],
   "source": [
    "import numpy as np\n",
    "import pandas as pd\n",
    "from sklearn.utils import shuffle\n",
    "import matplotlib.pyplot as plt\n",
    "import time\n",
    "from sklearn import svm\n",
    "from sklearn.model_selection import cross_val_score\n",
    "from sklearn.model_selection import GridSearchCV\n",
    "from sklearn.model_selection import train_test_split\n",
    "from sklearn.model_selection import KFold\n",
    "\n",
    "from scipy import stats\n",
    "import statistics as stat\n"
   ]
  },
  {
   "cell_type": "code",
   "execution_count": 2,
   "metadata": {},
   "outputs": [],
   "source": [
    "ds=pd.read_csv(\"TrainingDataset.arff.txt\",header=None, comment='@')\n",
    "#train, test = train_test_split(ds, test_size=0.2)"
   ]
  },
  {
   "cell_type": "code",
   "execution_count": null,
   "metadata": {
    "scrolled": false
   },
   "outputs": [
    {
     "name": "stdout",
     "output_type": "stream",
     "text": [
      "\n",
      "Iterazione 1\n",
      "train+validation: [ 1106  1107  1108 ... 11052 11053 11054] test: [   0    1    2 ... 1103 1104 1105]\n"
     ]
    }
   ],
   "source": [
    "start_time= time.time()\n",
    "\n",
    "outer=KFold(n_splits=10)\n",
    "outer.get_n_splits(ds)\n",
    "C_range = np.logspace(-3 , 3, num=7)\n",
    "parameters = {'C':C_range, 'kernel':['linear']}\n",
    "results=dict()\n",
    "count=0\n",
    "for train_index, test_index in outer.split(ds):\n",
    "    count+=1\n",
    "    elapsed_time= time.time()\n",
    "    print(\"\\nIterazione\",count)\n",
    "    print(\"train+validation:\", train_index, \"test:\", test_index)\n",
    "    X_train, X_test= ds.iloc[train_index,:np.shape(ds)[1]-1], ds.iloc[test_index,:np.shape(ds)[1]-1]\n",
    "    Y_train, Y_test= ds.iloc[train_index,-1], ds.iloc[test_index,-1]\n",
    "    \n",
    "    svc = svm.SVC()\n",
    "    clf = GridSearchCV(svc, parameters, cv=10, scoring=\"accuracy\",n_jobs=-1, return_train_score=True)\n",
    "    clf.fit(X_train, Y_train)\n",
    "    \n",
    "    for i in range(0,len(clf.cv_results_['params'])):\n",
    "        print (\"Modello:\",clf.cv_results_['params'][i], \"accuracy:\",clf.cv_results_['mean_test_score'][i])\n",
    "    \n",
    "    t_score= clf.score(X_test, Y_test)\n",
    "    print (\"Miglior modello:\",clf.best_params_,\"con score sul test set:\",t_score)\n",
    "\n",
    "    if str(clf.best_params_) in results:\n",
    "        results[str(clf.best_params_)]['occurrency']+=1\n",
    "        results[str(clf.best_params_)]['tests'].append(t_score)\n",
    "    else:\n",
    "        results[str(clf.best_params_)]=dict()\n",
    "        results[str(clf.best_params_)]['occurrency']=1\n",
    "        results[str(clf.best_params_)]['tests']=[]\n",
    "        results[str(clf.best_params_)]['tests'].append(t_score)\n",
    "        \n",
    "    elapsed_time=time.time()-elapsed_time\n",
    "    print(\"\\nElapsed time:\",elapsed_time)   \n",
    "\n",
    "elapsed_time=time.time()-start_time\n",
    "print(\"\\nTotal elapsed time:\",elapsed_time)        \n",
    "    "
   ]
  },
  {
   "cell_type": "code",
   "execution_count": 28,
   "metadata": {},
   "outputs": [
    {
     "name": "stdout",
     "output_type": "stream",
     "text": [
      "{\"{'C': 10.0, 'kernel': 'linear'}\": {'occurrency': 9, 'tests': [0.9249547920433996, 0.9276672694394213, 0.9276672694394213, 0.9312839059674503, 0.9258589511754068, 0.9384615384615385, 0.9122171945701357, 0.92579185520362, 0.9294117647058824]}, \"{'C': 0.1, 'kernel': 'linear'}\": {'occurrency': 1, 'tests': [0.9276018099547512]}} \n",
      "\n",
      "{'C': 10.0, 'kernel': 'linear'} occorre 9 volte su 10 .\n",
      "Media dei test score: 0.9270349490006973\n"
     ]
    }
   ],
   "source": [
    "print(results,\"\\n\")\n",
    "flag=False\n",
    "duplicates=[]\n",
    "tot=0\n",
    "for x in results:\n",
    "    tot=tot+results[x]['occurrency']\n",
    "occ=0\n",
    "best=None\n",
    "for key in results:\n",
    "    if results[key]['occurrency']>occ:\n",
    "        occ=results[key]['occurrency']\n",
    "        best=key\n",
    "        testscores=results[key]['tests']\n",
    "    elif results[key]['occurrency']==occ:\n",
    "        flag=True\n",
    "        duplicates.append(key)\n",
    "print(best,\"occorre\",occ,\"volte su\",tot,\".\\nMedia dei test score:\",np.mean(testscores))\n",
    "if flag:\n",
    "    print(\"Ci sono più modelli con la stessa occorrenza:\")\n",
    "    for x in duplicates:\n",
    "        print(x,\"occorre\",results[x]['occurrency'],\"volte su\",tot,\".\\nMedia dei test score:\",np.mean(results[x]['tests']))"
   ]
  },
  {
   "cell_type": "code",
   "execution_count": null,
   "metadata": {},
   "outputs": [],
   "source": []
  }
 ],
 "metadata": {
  "kernelspec": {
   "display_name": "Python 3",
   "language": "python",
   "name": "python3"
  },
  "language_info": {
   "codemirror_mode": {
    "name": "ipython",
    "version": 3
   },
   "file_extension": ".py",
   "mimetype": "text/x-python",
   "name": "python",
   "nbconvert_exporter": "python",
   "pygments_lexer": "ipython3",
   "version": "3.7.1"
  }
 },
 "nbformat": 4,
 "nbformat_minor": 2
}
